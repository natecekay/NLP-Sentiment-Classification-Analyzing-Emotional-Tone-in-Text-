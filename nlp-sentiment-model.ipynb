{
 "cells": [
  {
   "cell_type": "markdown",
   "metadata": {},
   "source": [
    "View the full project at - \n",
    "https://www.kaggle.com/code/natecekay/nlp-sentiment-classification"
   ]
  },
  {
   "cell_type": "code",
   "execution_count": 1,
   "metadata": {
    "_cell_guid": "b1076dfc-b9ad-4769-8c92-a6c4dae69d19",
    "_uuid": "8f2839f25d086af736a60e9eeb907d3b93b6e0e5"
   },
   "outputs": [
    {
     "name": "stderr",
     "output_type": "stream",
     "text": [
      "C:\\Users\\cekay\\tensorflow_env\\lib\\site-packages\\tqdm\\auto.py:21: TqdmWarning: IProgress not found. Please update jupyter and ipywidgets. See https://ipywidgets.readthedocs.io/en/stable/user_install.html\n",
      "  from .autonotebook import tqdm as notebook_tqdm\n"
     ]
    },
    {
     "name": "stdout",
     "output_type": "stream",
     "text": [
      "WARNING:tensorflow:From C:\\Users\\cekay\\tensorflow_env\\lib\\site-packages\\tf_keras\\src\\losses.py:2976: The name tf.losses.sparse_softmax_cross_entropy is deprecated. Please use tf.compat.v1.losses.sparse_softmax_cross_entropy instead.\n",
      "\n"
     ]
    }
   ],
   "source": [
    "import matplotlib.pyplot as plt\n",
    "import numpy as np\n",
    "import os\n",
    "import pandas as pd\n",
    "import random\n",
    "import seaborn as sns\n",
    "import torch\n",
    "from sklearn.metrics import confusion_matrix\n",
    "from sklearn.model_selection import ParameterGrid, train_test_split\n",
    "from sklearn.preprocessing import LabelEncoder\n",
    "from torch.utils.data import Dataset\n",
    "from transformers import BertForSequenceClassification, BertTokenizer, Trainer, TrainingArguments, pipeline\n"
   ]
  },
  {
   "cell_type": "code",
   "execution_count": 2,
   "metadata": {},
   "outputs": [],
   "source": [
    "torch.manual_seed(42)\n",
    "torch.cuda.manual_seed_all(42)\n",
    "np.random.seed(42)\n",
    "random.seed(42)"
   ]
  },
  {
   "cell_type": "code",
   "execution_count": 3,
   "metadata": {},
   "outputs": [],
   "source": [
    "torch.backends.cudnn.deterministic = True\n",
    "torch.backends.cudnn.benchmark = False"
   ]
  },
  {
   "cell_type": "code",
   "execution_count": 4,
   "metadata": {},
   "outputs": [],
   "source": [
    "data1 = pd.read_csv('C:/Users/cekay/OneDrive/Desktop/NLP Model/Education.csv')\n",
    "data2 = pd.read_csv('C:/Users/cekay/OneDrive/Desktop/NLP Model/Finance.csv')\n",
    "data3 = pd.read_csv('C:/Users/cekay/OneDrive/Desktop/NLP Model/Politics.csv')\n",
    "data4 = pd.read_csv('C:/Users/cekay/OneDrive/Desktop/NLP Model/Sports.csv')"
   ]
  },
  {
   "cell_type": "code",
   "execution_count": 5,
   "metadata": {},
   "outputs": [],
   "source": [
    "# standardize column names and combine datasets\n",
    "data1.columns = data1.columns.str.strip().str.lower()\n",
    "data2.columns = data2.columns.str.strip().str.lower()\n",
    "data3.columns = data3.columns.str.strip().str.lower()\n",
    "data4.columns = data4.columns.str.strip().str.lower()"
   ]
  },
  {
   "cell_type": "code",
   "execution_count": 6,
   "metadata": {},
   "outputs": [],
   "source": [
    "combined_data = pd.concat([data1, data2, data3, data4], ignore_index=True).drop_duplicates().dropna()\n"
   ]
  },
  {
   "cell_type": "code",
   "execution_count": 7,
   "metadata": {},
   "outputs": [
    {
     "data": {
      "text/html": [
       "<div>\n",
       "<style scoped>\n",
       "    .dataframe tbody tr th:only-of-type {\n",
       "        vertical-align: middle;\n",
       "    }\n",
       "\n",
       "    .dataframe tbody tr th {\n",
       "        vertical-align: top;\n",
       "    }\n",
       "\n",
       "    .dataframe thead th {\n",
       "        text-align: right;\n",
       "    }\n",
       "</style>\n",
       "<table border=\"1\" class=\"dataframe\">\n",
       "  <thead>\n",
       "    <tr style=\"text-align: right;\">\n",
       "      <th></th>\n",
       "      <th>text</th>\n",
       "      <th>label</th>\n",
       "    </tr>\n",
       "  </thead>\n",
       "  <tbody>\n",
       "    <tr>\n",
       "      <th>0</th>\n",
       "      <td>The impact of educational reforms remains unce...</td>\n",
       "      <td>positive</td>\n",
       "    </tr>\n",
       "    <tr>\n",
       "      <th>1</th>\n",
       "      <td>Critics argue that recent improvements in the ...</td>\n",
       "      <td>negative</td>\n",
       "    </tr>\n",
       "    <tr>\n",
       "      <th>2</th>\n",
       "      <td>Innovative teaching methods have led to unexpe...</td>\n",
       "      <td>positive</td>\n",
       "    </tr>\n",
       "    <tr>\n",
       "      <th>3</th>\n",
       "      <td>Despite budget constraints, the school has man...</td>\n",
       "      <td>positive</td>\n",
       "    </tr>\n",
       "    <tr>\n",
       "      <th>4</th>\n",
       "      <td>The true effectiveness of online learning plat...</td>\n",
       "      <td>negative</td>\n",
       "    </tr>\n",
       "    <tr>\n",
       "      <th>...</th>\n",
       "      <td>...</td>\n",
       "      <td>...</td>\n",
       "    </tr>\n",
       "    <tr>\n",
       "      <th>204</th>\n",
       "      <td>Sports fandom can foster a sense of community ...</td>\n",
       "      <td>positive</td>\n",
       "    </tr>\n",
       "    <tr>\n",
       "      <th>205</th>\n",
       "      <td>Sports events offer a platform for showcasing ...</td>\n",
       "      <td>positive</td>\n",
       "    </tr>\n",
       "    <tr>\n",
       "      <th>206</th>\n",
       "      <td>The pressure to win in sports can overshadow t...</td>\n",
       "      <td>negative</td>\n",
       "    </tr>\n",
       "    <tr>\n",
       "      <th>207</th>\n",
       "      <td>Sports programs in schools play a crucial role...</td>\n",
       "      <td>positive</td>\n",
       "    </tr>\n",
       "    <tr>\n",
       "      <th>208</th>\n",
       "      <td>The commercialization of sports has led to exp...</td>\n",
       "      <td>negative</td>\n",
       "    </tr>\n",
       "  </tbody>\n",
       "</table>\n",
       "<p>209 rows × 2 columns</p>\n",
       "</div>"
      ],
      "text/plain": [
       "                                                  text     label\n",
       "0    The impact of educational reforms remains unce...  positive\n",
       "1    Critics argue that recent improvements in the ...  negative\n",
       "2    Innovative teaching methods have led to unexpe...  positive\n",
       "3    Despite budget constraints, the school has man...  positive\n",
       "4    The true effectiveness of online learning plat...  negative\n",
       "..                                                 ...       ...\n",
       "204  Sports fandom can foster a sense of community ...  positive\n",
       "205  Sports events offer a platform for showcasing ...  positive\n",
       "206  The pressure to win in sports can overshadow t...  negative\n",
       "207  Sports programs in schools play a crucial role...  positive\n",
       "208  The commercialization of sports has led to exp...  negative\n",
       "\n",
       "[209 rows x 2 columns]"
      ]
     },
     "execution_count": 7,
     "metadata": {},
     "output_type": "execute_result"
    }
   ],
   "source": [
    "combined_data"
   ]
  },
  {
   "cell_type": "code",
   "execution_count": 8,
   "metadata": {},
   "outputs": [],
   "source": [
    "# creating 17 synthetic negative responses to even distribution of positive and negative responses\n",
    "negative_responses = [\n",
    "    \"The budget cuts have negatively impacted the quality of education.\",\n",
    "    \"The lack of transparency in the process has caused widespread dissatisfaction.\",\n",
    "    \"Students have reported feeling unmotivated due to outdated teaching methods.\",\n",
    "    \"The current system fails to address the needs of struggling students.\",\n",
    "    \"The high cost of tuition has created a barrier for many potential learners.\",\n",
    "    \"Administrative delays have led to missed opportunities for students.\",\n",
    "    \"The online learning platform lacks engagement and interactivity.\",\n",
    "    \"The policies are criticized for being overly bureaucratic and rigid.\",\n",
    "    \"Frequent technical issues disrupt the flow of online classes.\",\n",
    "    \"Limited access to resources has made learning challenging for many students.\",\n",
    "    \"The current curriculum is seen as irrelevant to real-world applications.\",\n",
    "    \"The inconsistent grading system has led to frustration among students.\",\n",
    "    \"Excessive focus on standardized testing undermines creativity in classrooms.\",\n",
    "    \"Many students feel unsupported due to a lack of mental health resources.\",\n",
    "    \"Teachers express frustration over a lack of professional development opportunities.\",\n",
    "    \"Parents have complained about the poor communication from school administrations.\",\n",
    "    \"The focus on profits has overshadowed the quality of education provided.\"\n",
    "]\n",
    "\n",
    "# adding these responses into a dataset\n",
    "new_data = pd.DataFrame({\n",
    "    'text': negative_responses,\n",
    "    'label': ['negative'] * len(negative_responses)\n",
    "})\n",
    "\n"
   ]
  },
  {
   "cell_type": "code",
   "execution_count": 9,
   "metadata": {},
   "outputs": [],
   "source": [
    "# combining the responses with the original dataset\n",
    "combined_data = pd.concat([combined_data, new_data], ignore_index=True)"
   ]
  },
  {
   "cell_type": "code",
   "execution_count": 10,
   "metadata": {},
   "outputs": [],
   "source": [
    "#adding responses to increase model accuracy \n",
    "positive_responses = [\n",
    "    \"Your dedication to learning is inspiring!\",\n",
    "    \"Fantastic progress in your studies!\",\n",
    "    \"You're mastering these concepts beautifully!\",\n",
    "    \"Your passion for education shines through!\",\n",
    "    \"You're making amazing strides in your learning!\",\n",
    "    \"Keep excelling in your academic journey!\",\n",
    "    \"You're a true scholar!\",\n",
    "    \"Your curiosity is your greatest asset!\",\n",
    "    \"Outstanding effort in your studies!\",\n",
    "    \"You're achieving great heights in education!\",\n",
    "    \"Your leadership is truly commendable!\",\n",
    "    \"Fantastic strategy and execution!\",\n",
    "    \"You're making a positive impact in the political arena!\",\n",
    "    \"Your dedication to public service is admirable!\",\n",
    "    \"You're inspiring positive change!\",\n",
    "    \"Your commitment to the community is exemplary!\",\n",
    "    \"You're an advocate for progress!\",\n",
    "    \"Your vision for the future is inspiring!\",\n",
    "    \"You're leading with integrity and purpose!\",\n",
    "    \"Your efforts are shaping a better society!\",\n",
    "    \"Outstanding performance on the field!\",\n",
    "    \"Your determination in sports is incredible!\",\n",
    "    \"Fantastic teamwork and spirit!\",\n",
    "    \"You're a true champion!\",\n",
    "    \"Your hard work in training is paying off!\",\n",
    "    \"Keep breaking records!\",\n",
    "    \"You're an inspiration to athletes everywhere!\",\n",
    "    \"Your sportsmanship is commendable!\",\n",
    "    \"You're achieving greatness in every game!\",\n",
    "    \"Your passion for sports is unmatched!\",\n",
    "    \"Your financial planning is top-notch!\",\n",
    "    \"Fantastic investment strategies!\",\n",
    "    \"You're building a solid financial future!\",\n",
    "    \"Your understanding of the market is impressive!\",\n",
    "    \"You're a financial wizard!\",\n",
    "    \"Your budgeting skills are exceptional!\",\n",
    "    \"You're achieving remarkable financial goals!\",\n",
    "    \"Your insight into finance is invaluable!\",\n",
    "    \"You're a savvy investor!\",\n",
    "    \"You're mastering the art of finance!\",\n",
    "    \"Your progress in this course is exceptional!\",\n",
    "    \"You're setting a high standard for academic excellence!\",\n",
    "    \"Your love for learning is contagious!\",\n",
    "    \"You're turning every challenge into an opportunity to grow!\",\n",
    "    \"Your persistence in education is commendable!\",\n",
    "    \"Keep reaching for new academic heights!\",\n",
    "    \"Your commitment to knowledge is remarkable!\",\n",
    "    \"You're making a significant impact in education!\",\n",
    "    \"You're transforming the way we think about learning!\",\n",
    "    \"Your dedication to academic success is unparalleled!\",\n",
    "    \"You're championing important causes with grace!\",\n",
    "    \"Your approach to policy is innovative and effective!\",\n",
    "    \"You're driving meaningful conversations in politics!\",\n",
    "    \"Your advocacy for the people is outstanding!\",\n",
    "    \"You're setting an example of ethical leadership!\",\n",
    "    \"Your efforts in political reform are remarkable!\",\n",
    "    \"You're a beacon of hope in the political landscape!\",\n",
    "    \"Your strategies are paving the way for a brighter future!\",\n",
    "    \"You're making history with your actions!\",\n",
    "    \"Your vision for change is inspiring generations!\",\n",
    "    \"Your agility and skill are incredible!\",\n",
    "    \"You're a standout player in every match!\",\n",
    "    \"Your commitment to excellence in sports is inspiring!\",\n",
    "    \"You're redefining what it means to be an athlete!\",\n",
    "    \"Your victories are a testament to your hard work!\",\n",
    "    \"You're pushing the boundaries of athletic achievement!\",\n",
    "    \"Your resilience in sports is admirable!\",\n",
    "    \"You're a role model for aspiring athletes!\",\n",
    "    \"Your success on the field is well-deserved!\",\n",
    "    \"You're leaving an indelible mark in the sports world!\",\n",
    "    \"Your financial acumen is remarkable!\",\n",
    "    \"You're navigating complex financial landscapes with ease!\",\n",
    "    \"Your approach to wealth management is outstanding!\",\n",
    "    \"You're a pioneer in financial innovation!\",\n",
    "    \"Your foresight in investments is unmatched!\",\n",
    "    \"You're a trailblazer in the finance industry!\",\n",
    "    \"Your financial achievements are awe-inspiring!\",\n",
    "    \"You're building a legacy of financial success!\",\n",
    "    \"Your expertise in finance is a game-changer!\",\n",
    "    \"You're creating financial opportunities for many!\",\n",
    "    \"Your determination in every area is remarkable!\",\n",
    "    \"You're making a difference in the world!\",\n",
    "    \"Your achievements are an inspiration to all!\",\n",
    "    \"You're excelling in every challenge you take on!\",\n",
    "    \"Your persistence and passion are unmatched!\",\n",
    "    \"You're setting a new standard for success!\",\n",
    "    \"Your creativity and innovation are making waves!\",\n",
    "    \"You're achieving extraordinary results!\",\n",
    "    \"You're a true inspiration in every endeavor!\",\n",
    "    \"Keep reaching for the stars!\"\n",
    "]\n",
    "\n",
    "negative_responses = [\n",
    "    \"You need to focus more on your studies.\",\n",
    "    \"This approach isn’t working well for your education.\",\n",
    "    \"There’s room for improvement in your learning strategy.\",\n",
    "    \"You’re not giving your best effort in academics.\",\n",
    "    \"Your progress is slower than expected.\",\n",
    "    \"You could be more consistent in your studies.\",\n",
    "    \"You’re falling behind on your educational goals.\",\n",
    "    \"Your commitment to learning seems to be lacking.\",\n",
    "    \"You need to pay more attention in class.\",\n",
    "    \"Your academic performance is disappointing.\",\n",
    "    \"Your policies aren’t addressing key issues effectively.\",\n",
    "    \"This strategy lacks clarity and focus.\",\n",
    "    \"Your leadership in politics is underwhelming.\",\n",
    "    \"You’re not communicating your vision well enough.\",\n",
    "    \"There’s a lack of progress in your political goals.\",\n",
    "    \"You need to collaborate more with stakeholders.\",\n",
    "    \"Your decisions are alienating your supporters.\",\n",
    "    \"You’re not addressing the community’s concerns.\",\n",
    "    \"Your political campaign lacks energy.\",\n",
    "    \"Your strategies aren’t resonating with the public.\",\n",
    "    \"Your performance on the field needs improvement.\",\n",
    "    \"You’re not showing enough determination in sports.\",\n",
    "    \"Your teamwork skills are below expectations.\",\n",
    "    \"You’re not training as hard as you could.\",\n",
    "    \"Your game lacks strategy and execution.\",\n",
    "    \"You’re not fully utilizing your potential in sports.\",\n",
    "    \"Your attitude on the field needs adjustment.\",\n",
    "    \"Your recent matches have been lackluster.\",\n",
    "    \"Your fitness level is affecting your performance.\",\n",
    "    \"You’re not demonstrating leadership in the game.\",\n",
    "    \"Your financial planning needs significant improvement.\",\n",
    "    \"This investment strategy is not effective.\",\n",
    "    \"Your budgeting skills are falling short.\",\n",
    "    \"You’re not managing your finances well.\",\n",
    "    \"Your savings plan needs more attention.\",\n",
    "    \"You’re not analyzing the market effectively.\",\n",
    "    \"Your financial decisions lack foresight.\",\n",
    "    \"You’re not tracking your expenses accurately.\",\n",
    "    \"Your goals in finance are unrealistic.\",\n",
    "    \"You’re not achieving financial stability.\",\n",
    "    \"Your study methods are inconsistent.\",\n",
    "    \"You’re not engaging enough with your coursework.\",\n",
    "    \"Your academic goals are unclear.\",\n",
    "    \"You need to be more proactive in your studies.\",\n",
    "    \"Your effort in school is not satisfactory.\",\n",
    "    \"You’re not taking your education seriously enough.\",\n",
    "    \"Your learning pace is too slow.\",\n",
    "    \"You’re not prioritizing your academics.\",\n",
    "    \"You’re not seeking help when needed in your studies.\",\n",
    "    \"Your engagement with your education is minimal.\",\n",
    "    \"Your policy lacks innovative solutions.\",\n",
    "    \"You’re not addressing important challenges in politics.\",\n",
    "    \"Your public speaking skills need improvement.\",\n",
    "    \"Your campaign lacks a clear message.\",\n",
    "    \"You’re not building enough trust with your constituents.\",\n",
    "    \"Your political actions are inconsistent.\",\n",
    "    \"You’re not creating meaningful partnerships in politics.\",\n",
    "    \"Your decisions are not well-informed.\",\n",
    "    \"You’re not inspiring confidence in your leadership.\",\n",
    "    \"You’re not delivering on your political promises.\",\n",
    "    \"You’re not giving your best performance in sports.\",\n",
    "    \"Your focus during games is lacking.\",\n",
    "    \"You’re not improving your skills in training.\",\n",
    "    \"You’re not working well with your teammates.\",\n",
    "    \"Your preparation for matches is inadequate.\",\n",
    "    \"You’re not maintaining discipline on the field.\",\n",
    "    \"You’re not adapting to challenges in sports.\",\n",
    "    \"Your performance consistency is poor.\",\n",
    "    \"You’re not utilizing your strengths effectively.\",\n",
    "    \"You’re not setting a good example in sportsmanship.\",\n",
    "    \"Your financial goals are not well-defined.\",\n",
    "    \"You’re not saving enough for future needs.\",\n",
    "    \"Your expenses are exceeding your income.\",\n",
    "    \"You’re not diversifying your investments.\",\n",
    "    \"Your financial risks are too high.\",\n",
    "    \"You’re not planning for unexpected costs.\",\n",
    "    \"Your spending habits need better control.\",\n",
    "    \"You’re not building a strong credit score.\",\n",
    "    \"You’re not setting achievable financial milestones.\",\n",
    "    \"You’re not managing your financial priorities effectively.\",\n",
    "    \"Your classroom participation needs improvement.\",\n",
    "    \"You’re not setting realistic academic goals.\",\n",
    "    \"You’re not effectively managing your time for studies.\",\n",
    "    \"You’re not staying updated on current political trends.\",\n",
    "    \"You’re neglecting critical issues in your policies.\",\n",
    "    \"Your sports preparation needs more effort.\",\n",
    "    \"Your financial record-keeping is inadequate.\",\n",
    "    \"Your approach to teamwork in sports needs improvement.\",\n",
    "    \"Your lack of discipline is holding you back in academics.\",\n",
    "    \"You’re not effectively using resources to achieve your goals.\"\n",
    "]\n",
    "\n",
    "positive_df = pd.DataFrame({\"text\": positive_responses, \"label\": \"positive\"})\n",
    "negative_df = pd.DataFrame({\"text\": negative_responses, \"label\": \"negative\"})"
   ]
  },
  {
   "cell_type": "code",
   "execution_count": 11,
   "metadata": {},
   "outputs": [
    {
     "data": {
      "text/html": [
       "<div>\n",
       "<style scoped>\n",
       "    .dataframe tbody tr th:only-of-type {\n",
       "        vertical-align: middle;\n",
       "    }\n",
       "\n",
       "    .dataframe tbody tr th {\n",
       "        vertical-align: top;\n",
       "    }\n",
       "\n",
       "    .dataframe thead th {\n",
       "        text-align: right;\n",
       "    }\n",
       "</style>\n",
       "<table border=\"1\" class=\"dataframe\">\n",
       "  <thead>\n",
       "    <tr style=\"text-align: right;\">\n",
       "      <th></th>\n",
       "      <th>text</th>\n",
       "      <th>label</th>\n",
       "    </tr>\n",
       "  </thead>\n",
       "  <tbody>\n",
       "    <tr>\n",
       "      <th>0</th>\n",
       "      <td>Your dedication to learning is inspiring!</td>\n",
       "      <td>positive</td>\n",
       "    </tr>\n",
       "    <tr>\n",
       "      <th>1</th>\n",
       "      <td>Fantastic progress in your studies!</td>\n",
       "      <td>positive</td>\n",
       "    </tr>\n",
       "    <tr>\n",
       "      <th>2</th>\n",
       "      <td>You're mastering these concepts beautifully!</td>\n",
       "      <td>positive</td>\n",
       "    </tr>\n",
       "    <tr>\n",
       "      <th>3</th>\n",
       "      <td>Your passion for education shines through!</td>\n",
       "      <td>positive</td>\n",
       "    </tr>\n",
       "    <tr>\n",
       "      <th>4</th>\n",
       "      <td>You're making amazing strides in your learning!</td>\n",
       "      <td>positive</td>\n",
       "    </tr>\n",
       "    <tr>\n",
       "      <th>...</th>\n",
       "      <td>...</td>\n",
       "      <td>...</td>\n",
       "    </tr>\n",
       "    <tr>\n",
       "      <th>85</th>\n",
       "      <td>You're setting a new standard for success!</td>\n",
       "      <td>positive</td>\n",
       "    </tr>\n",
       "    <tr>\n",
       "      <th>86</th>\n",
       "      <td>Your creativity and innovation are making waves!</td>\n",
       "      <td>positive</td>\n",
       "    </tr>\n",
       "    <tr>\n",
       "      <th>87</th>\n",
       "      <td>You're achieving extraordinary results!</td>\n",
       "      <td>positive</td>\n",
       "    </tr>\n",
       "    <tr>\n",
       "      <th>88</th>\n",
       "      <td>You're a true inspiration in every endeavor!</td>\n",
       "      <td>positive</td>\n",
       "    </tr>\n",
       "    <tr>\n",
       "      <th>89</th>\n",
       "      <td>Keep reaching for the stars!</td>\n",
       "      <td>positive</td>\n",
       "    </tr>\n",
       "  </tbody>\n",
       "</table>\n",
       "<p>90 rows × 2 columns</p>\n",
       "</div>"
      ],
      "text/plain": [
       "                                                text     label\n",
       "0          Your dedication to learning is inspiring!  positive\n",
       "1                Fantastic progress in your studies!  positive\n",
       "2       You're mastering these concepts beautifully!  positive\n",
       "3         Your passion for education shines through!  positive\n",
       "4    You're making amazing strides in your learning!  positive\n",
       "..                                               ...       ...\n",
       "85        You're setting a new standard for success!  positive\n",
       "86  Your creativity and innovation are making waves!  positive\n",
       "87           You're achieving extraordinary results!  positive\n",
       "88      You're a true inspiration in every endeavor!  positive\n",
       "89                      Keep reaching for the stars!  positive\n",
       "\n",
       "[90 rows x 2 columns]"
      ]
     },
     "execution_count": 11,
     "metadata": {},
     "output_type": "execute_result"
    }
   ],
   "source": [
    "positive_df"
   ]
  },
  {
   "cell_type": "code",
   "execution_count": 12,
   "metadata": {},
   "outputs": [
    {
     "data": {
      "text/html": [
       "<div>\n",
       "<style scoped>\n",
       "    .dataframe tbody tr th:only-of-type {\n",
       "        vertical-align: middle;\n",
       "    }\n",
       "\n",
       "    .dataframe tbody tr th {\n",
       "        vertical-align: top;\n",
       "    }\n",
       "\n",
       "    .dataframe thead th {\n",
       "        text-align: right;\n",
       "    }\n",
       "</style>\n",
       "<table border=\"1\" class=\"dataframe\">\n",
       "  <thead>\n",
       "    <tr style=\"text-align: right;\">\n",
       "      <th></th>\n",
       "      <th>text</th>\n",
       "      <th>label</th>\n",
       "    </tr>\n",
       "  </thead>\n",
       "  <tbody>\n",
       "    <tr>\n",
       "      <th>0</th>\n",
       "      <td>You need to focus more on your studies.</td>\n",
       "      <td>negative</td>\n",
       "    </tr>\n",
       "    <tr>\n",
       "      <th>1</th>\n",
       "      <td>This approach isn’t working well for your educ...</td>\n",
       "      <td>negative</td>\n",
       "    </tr>\n",
       "    <tr>\n",
       "      <th>2</th>\n",
       "      <td>There’s room for improvement in your learning ...</td>\n",
       "      <td>negative</td>\n",
       "    </tr>\n",
       "    <tr>\n",
       "      <th>3</th>\n",
       "      <td>You’re not giving your best effort in academics.</td>\n",
       "      <td>negative</td>\n",
       "    </tr>\n",
       "    <tr>\n",
       "      <th>4</th>\n",
       "      <td>Your progress is slower than expected.</td>\n",
       "      <td>negative</td>\n",
       "    </tr>\n",
       "    <tr>\n",
       "      <th>...</th>\n",
       "      <td>...</td>\n",
       "      <td>...</td>\n",
       "    </tr>\n",
       "    <tr>\n",
       "      <th>85</th>\n",
       "      <td>Your sports preparation needs more effort.</td>\n",
       "      <td>negative</td>\n",
       "    </tr>\n",
       "    <tr>\n",
       "      <th>86</th>\n",
       "      <td>Your financial record-keeping is inadequate.</td>\n",
       "      <td>negative</td>\n",
       "    </tr>\n",
       "    <tr>\n",
       "      <th>87</th>\n",
       "      <td>Your approach to teamwork in sports needs impr...</td>\n",
       "      <td>negative</td>\n",
       "    </tr>\n",
       "    <tr>\n",
       "      <th>88</th>\n",
       "      <td>Your lack of discipline is holding you back in...</td>\n",
       "      <td>negative</td>\n",
       "    </tr>\n",
       "    <tr>\n",
       "      <th>89</th>\n",
       "      <td>You’re not effectively using resources to achi...</td>\n",
       "      <td>negative</td>\n",
       "    </tr>\n",
       "  </tbody>\n",
       "</table>\n",
       "<p>90 rows × 2 columns</p>\n",
       "</div>"
      ],
      "text/plain": [
       "                                                 text     label\n",
       "0             You need to focus more on your studies.  negative\n",
       "1   This approach isn’t working well for your educ...  negative\n",
       "2   There’s room for improvement in your learning ...  negative\n",
       "3    You’re not giving your best effort in academics.  negative\n",
       "4              Your progress is slower than expected.  negative\n",
       "..                                                ...       ...\n",
       "85         Your sports preparation needs more effort.  negative\n",
       "86       Your financial record-keeping is inadequate.  negative\n",
       "87  Your approach to teamwork in sports needs impr...  negative\n",
       "88  Your lack of discipline is holding you back in...  negative\n",
       "89  You’re not effectively using resources to achi...  negative\n",
       "\n",
       "[90 rows x 2 columns]"
      ]
     },
     "execution_count": 12,
     "metadata": {},
     "output_type": "execute_result"
    }
   ],
   "source": [
    "negative_df"
   ]
  },
  {
   "cell_type": "code",
   "execution_count": 13,
   "metadata": {},
   "outputs": [],
   "source": [
    "# adding the responses to the existing DataFrame\n",
    "combined_data = pd.concat([combined_data, positive_df, negative_df], ignore_index=True)"
   ]
  },
  {
   "cell_type": "code",
   "execution_count": 14,
   "metadata": {},
   "outputs": [
    {
     "data": {
      "text/plain": [
       "label\n",
       "positive    203\n",
       "negative    203\n",
       "Name: count, dtype: int64"
      ]
     },
     "execution_count": 14,
     "metadata": {},
     "output_type": "execute_result"
    }
   ],
   "source": [
    "combined_data['label'].value_counts()"
   ]
  },
  {
   "cell_type": "code",
   "execution_count": 15,
   "metadata": {},
   "outputs": [
    {
     "data": {
      "image/png": "[encoded data removed]",
      "text/plain": [
       "<Figure size 800x500 with 1 Axes>"
      ]
     },
     "metadata": {},
     "output_type": "display_data"
    }
   ],
   "source": [
    "label_distribution = combined_data['label'].value_counts()\n",
    "\n",
    "# Plotting the distribution\n",
    "plt.figure(figsize=(8, 5))\n",
    "label_distribution.plot(kind='bar', color=['blue', 'orange'])\n",
    "plt.title(\"Distribution of Labels (positive or negative)\")\n",
    "plt.xlabel(\"Labels\")\n",
    "plt.ylabel(\"Frequency\")\n",
    "plt.xticks(rotation=0)\n",
    "plt.grid(axis='y', linestyle='--', alpha=0.7)\n",
    "plt.show()\n"
   ]
  },
  {
   "cell_type": "code",
   "execution_count": 16,
   "metadata": {},
   "outputs": [],
   "source": [
    "# Prepare data\n",
    "X = combined_data['text'].tolist()\n",
    "y = LabelEncoder().fit_transform(combined_data['label'])\n"
   ]
  },
  {
   "cell_type": "code",
   "execution_count": 17,
   "metadata": {},
   "outputs": [],
   "source": [
    "X_train, X_test, y_train, y_test = train_test_split(X, y, test_size=0.2, random_state=42)\n"
   ]
  },
  {
   "cell_type": "code",
   "execution_count": 18,
   "metadata": {},
   "outputs": [
    {
     "name": "stderr",
     "output_type": "stream",
     "text": [
      "Some weights of BertForSequenceClassification were not initialized from the model checkpoint at bert-base-uncased and are newly initialized: ['classifier.bias', 'classifier.weight']\n",
      "You should probably TRAIN this model on a down-stream task to be able to use it for predictions and inference.\n"
     ]
    }
   ],
   "source": [
    "tokenizer = BertTokenizer.from_pretrained(\"bert-base-uncased\")\n",
    "model = BertForSequenceClassification.from_pretrained(\"bert-base-uncased\", num_labels=2)"
   ]
  },
  {
   "cell_type": "code",
   "execution_count": 19,
   "metadata": {},
   "outputs": [],
   "source": [
    "# tokenizing the data\n",
    "train_encodings = tokenizer(X_train, truncation=True, padding=True, max_length=512, return_tensors=\"pt\")\n",
    "test_encodings = tokenizer(X_test, truncation=True, padding=True, max_length=512, return_tensors=\"pt\")\n"
   ]
  },
  {
   "cell_type": "code",
   "execution_count": 20,
   "metadata": {},
   "outputs": [],
   "source": [
    "# converting labels to tensors\n",
    "train_labels = torch.tensor(y_train)\n",
    "test_labels = torch.tensor(y_test)\n"
   ]
  },
  {
   "cell_type": "code",
   "execution_count": 21,
   "metadata": {},
   "outputs": [],
   "source": [
    "# create a custom dataset class\n",
    "class SentimentDataset(torch.utils.data.Dataset):\n",
    "    def __init__(self, encodings, labels):\n",
    "        self.encodings = encodings\n",
    "        self.labels = labels\n",
    "\n",
    "    def __len__(self):\n",
    "        return len(self.labels)\n",
    "\n",
    "    def __getitem__(self, idx):\n",
    "        item = {key: val[idx] for key, val in self.encodings.items()}\n",
    "        item['labels'] = self.labels[idx]\n",
    "        return item\n"
   ]
  },
  {
   "cell_type": "code",
   "execution_count": 22,
   "metadata": {},
   "outputs": [],
   "source": [
    "train_dataset = SentimentDataset(train_encodings, train_labels)\n",
    "test_dataset = SentimentDataset(test_encodings, test_labels)"
   ]
  },
  {
   "cell_type": "code",
   "execution_count": 23,
   "metadata": {},
   "outputs": [
    {
     "name": "stdout",
     "output_type": "stream",
     "text": [
      "Testing params: {'batch_size': 16, 'learning_rate': 1e-05, 'num_train_epochs': 3, 'weight_decay': 0.0}\n"
     ]
    },
    {
     "name": "stderr",
     "output_type": "stream",
     "text": [
      "C:\\Users\\cekay\\tensorflow_env\\lib\\site-packages\\transformers\\training_args.py:1575: FutureWarning: `evaluation_strategy` is deprecated and will be removed in version 4.46 of 🤗 Transformers. Use `eval_strategy` instead\n",
      "  warnings.warn(\n",
      "C:\\Users\\cekay\\AppData\\Local\\Temp\\ipykernel_7344\\2745548030.py:31: FutureWarning: `tokenizer` is deprecated and will be removed in version 5.0.0 for `Trainer.__init__`. Use `processing_class` instead.\n",
      "  trainer = Trainer(\n"
     ]
    },
    {
     "name": "stdout",
     "output_type": "stream",
     "text": [
      "Testing params: {'batch_size': 16, 'learning_rate': 1e-05, 'num_train_epochs': 3, 'weight_decay': 0.01}\n",
      "Testing params: {'batch_size': 16, 'learning_rate': 1e-05, 'num_train_epochs': 5, 'weight_decay': 0.0}\n",
      "Testing params: {'batch_size': 16, 'learning_rate': 1e-05, 'num_train_epochs': 5, 'weight_decay': 0.01}\n",
      "Testing params: {'batch_size': 16, 'learning_rate': 2e-05, 'num_train_epochs': 3, 'weight_decay': 0.0}\n",
      "Testing params: {'batch_size': 16, 'learning_rate': 2e-05, 'num_train_epochs': 3, 'weight_decay': 0.01}\n",
      "Testing params: {'batch_size': 16, 'learning_rate': 2e-05, 'num_train_epochs': 5, 'weight_decay': 0.0}\n",
      "Testing params: {'batch_size': 16, 'learning_rate': 2e-05, 'num_train_epochs': 5, 'weight_decay': 0.01}\n",
      "Testing params: {'batch_size': 16, 'learning_rate': 5e-05, 'num_train_epochs': 3, 'weight_decay': 0.0}\n",
      "Testing params: {'batch_size': 16, 'learning_rate': 5e-05, 'num_train_epochs': 3, 'weight_decay': 0.01}\n",
      "Testing params: {'batch_size': 16, 'learning_rate': 5e-05, 'num_train_epochs': 5, 'weight_decay': 0.0}\n",
      "Testing params: {'batch_size': 16, 'learning_rate': 5e-05, 'num_train_epochs': 5, 'weight_decay': 0.01}\n",
      "Testing params: {'batch_size': 32, 'learning_rate': 1e-05, 'num_train_epochs': 3, 'weight_decay': 0.0}\n",
      "Testing params: {'batch_size': 32, 'learning_rate': 1e-05, 'num_train_epochs': 3, 'weight_decay': 0.01}\n",
      "Testing params: {'batch_size': 32, 'learning_rate': 1e-05, 'num_train_epochs': 5, 'weight_decay': 0.0}\n",
      "Testing params: {'batch_size': 32, 'learning_rate': 1e-05, 'num_train_epochs': 5, 'weight_decay': 0.01}\n",
      "Testing params: {'batch_size': 32, 'learning_rate': 2e-05, 'num_train_epochs': 3, 'weight_decay': 0.0}\n",
      "Testing params: {'batch_size': 32, 'learning_rate': 2e-05, 'num_train_epochs': 3, 'weight_decay': 0.01}\n",
      "Testing params: {'batch_size': 32, 'learning_rate': 2e-05, 'num_train_epochs': 5, 'weight_decay': 0.0}\n",
      "Testing params: {'batch_size': 32, 'learning_rate': 2e-05, 'num_train_epochs': 5, 'weight_decay': 0.01}\n",
      "Testing params: {'batch_size': 32, 'learning_rate': 5e-05, 'num_train_epochs': 3, 'weight_decay': 0.0}\n",
      "Testing params: {'batch_size': 32, 'learning_rate': 5e-05, 'num_train_epochs': 3, 'weight_decay': 0.01}\n",
      "Testing params: {'batch_size': 32, 'learning_rate': 5e-05, 'num_train_epochs': 5, 'weight_decay': 0.0}\n",
      "Testing params: {'batch_size': 32, 'learning_rate': 5e-05, 'num_train_epochs': 5, 'weight_decay': 0.01}\n"
     ]
    }
   ],
   "source": [
    "grid = {\n",
    "    'learning_rate': [1e-5, 2e-5, 5e-5],\n",
    "    'batch_size': [16, 32],\n",
    "    'num_train_epochs': [3, 5],\n",
    "    'weight_decay': [0.0, 0.01]\n",
    "}\n",
    "\n",
    "# generate all combinations of parameters\n",
    "param_combinations = list(ParameterGrid(grid))\n",
    "\n",
    "best_accuracy = 0\n",
    "best_params = {}\n",
    "\n",
    "for params in param_combinations:\n",
    "    print(f\"Testing params: {params}\")\n",
    "\n",
    "    # defining training arguments\n",
    "    training_args = TrainingArguments(\n",
    "        output_dir=\"./results\",\n",
    "        evaluation_strategy=\"epoch\",\n",
    "        learning_rate=params['learning_rate'],\n",
    "        per_device_train_batch_size=params['batch_size'],\n",
    "        num_train_epochs=params['num_train_epochs'],\n",
    "        weight_decay=params['weight_decay'],\n",
    "        logging_dir=\"./logs\",\n",
    "        logging_steps=10,\n",
    "        save_strategy=\"no\"\n",
    "    )\n",
    "\n",
    "    # initilize the trainer\n",
    "    trainer = Trainer(\n",
    "        model=model,\n",
    "        args=training_args,\n",
    "        train_dataset=train_dataset,\n",
    "        eval_dataset=test_dataset,\n",
    "        tokenizer=tokenizer\n",
    "    )\n"
   ]
  },
  {
   "cell_type": "code",
   "execution_count": 24,
   "metadata": {},
   "outputs": [
    {
     "data": {
      "text/html": [
       "\n",
       "    <div>\n",
       "      \n",
       "      <progress value='55' max='55' style='width:300px; height:20px; vertical-align: middle;'></progress>\n",
       "      [55/55 02:53, Epoch 5/5]\n",
       "    </div>\n",
       "    <table border=\"1\" class=\"dataframe\">\n",
       "  <thead>\n",
       " <tr style=\"text-align: left;\">\n",
       "      <th>Epoch</th>\n",
       "      <th>Training Loss</th>\n",
       "      <th>Validation Loss</th>\n",
       "    </tr>\n",
       "  </thead>\n",
       "  <tbody>\n",
       "    <tr>\n",
       "      <td>1</td>\n",
       "      <td>0.526200</td>\n",
       "      <td>0.354760</td>\n",
       "    </tr>\n",
       "    <tr>\n",
       "      <td>2</td>\n",
       "      <td>0.255300</td>\n",
       "      <td>0.306365</td>\n",
       "    </tr>\n",
       "    <tr>\n",
       "      <td>3</td>\n",
       "      <td>0.101100</td>\n",
       "      <td>0.271635</td>\n",
       "    </tr>\n",
       "    <tr>\n",
       "      <td>4</td>\n",
       "      <td>0.095900</td>\n",
       "      <td>0.294197</td>\n",
       "    </tr>\n",
       "    <tr>\n",
       "      <td>5</td>\n",
       "      <td>0.036100</td>\n",
       "      <td>0.280808</td>\n",
       "    </tr>\n",
       "  </tbody>\n",
       "</table><p>"
      ],
      "text/plain": [
       "<IPython.core.display.HTML object>"
      ]
     },
     "metadata": {},
     "output_type": "display_data"
    },
    {
     "data": {
      "text/plain": [
       "TrainOutput(global_step=55, training_loss=0.1860762509432706, metrics={'train_runtime': 180.8843, 'train_samples_per_second': 8.956, 'train_steps_per_second': 0.304, 'total_flos': 20812495590000.0, 'train_loss': 0.1860762509432706, 'epoch': 5.0})"
      ]
     },
     "execution_count": 24,
     "metadata": {},
     "output_type": "execute_result"
    }
   ],
   "source": [
    "# training BERT\n",
    "trainer.train()"
   ]
  },
  {
   "cell_type": "code",
   "execution_count": 25,
   "metadata": {},
   "outputs": [
    {
     "data": {
      "text/html": [],
      "text/plain": [
       "<IPython.core.display.HTML object>"
      ]
     },
     "metadata": {},
     "output_type": "display_data"
    },
    {
     "name": "stdout",
     "output_type": "stream",
     "text": [
      "Evaluation Results: {'eval_loss': 0.2808079123497009, 'eval_runtime': 2.1241, 'eval_samples_per_second': 38.604, 'eval_steps_per_second': 5.179, 'epoch': 5.0}\n"
     ]
    }
   ],
   "source": [
    "results = trainer.evaluate()\n",
    "print(\"Evaluation Results:\", results)"
   ]
  },
  {
   "cell_type": "code",
   "execution_count": 26,
   "metadata": {},
   "outputs": [
    {
     "name": "stdout",
     "output_type": "stream",
     "text": [
      "Accuracy: 0.9146341463414634\n",
      "Classification Report:\n",
      "               precision    recall  f1-score   support\n",
      "\n",
      "           0       0.91      0.93      0.92        43\n",
      "           1       0.92      0.90      0.91        39\n",
      "\n",
      "    accuracy                           0.91        82\n",
      "   macro avg       0.92      0.91      0.91        82\n",
      "weighted avg       0.91      0.91      0.91        82\n",
      "\n"
     ]
    }
   ],
   "source": [
    "# classification metrics\n",
    "predictions = trainer.predict(test_dataset)\n",
    "y_pred = predictions.predictions.argmax(axis=-1)\n",
    "from sklearn.metrics import classification_report, accuracy_score\n",
    "print(\"Accuracy:\", accuracy_score(y_test, y_pred))\n",
    "print(\"Classification Report:\\n\", classification_report(y_test, y_pred))"
   ]
  },
  {
   "cell_type": "code",
   "execution_count": 27,
   "metadata": {},
   "outputs": [
    {
     "data": {
      "image/png": "[encoded data removed]",
      "text/plain": [
       "<Figure size 800x600 with 1 Axes>"
      ]
     },
     "metadata": {},
     "output_type": "display_data"
    }
   ],
   "source": [
    "# confusion matrix\n",
    "cm = confusion_matrix(y_test, y_pred)\n",
    "\n",
    "labels = np.array([\n",
    "    [f\"True Negative (TN): {cm[0, 0]}\", f\"False Positive (FP): {cm[0, 1]}\"],\n",
    "    [f\"False Negative (FN): {cm[1, 0]}\", f\"True Positive (TP): {cm[1, 1]}\"]\n",
    "])\n",
    "\n",
    "fig, ax = plt.subplots(figsize=(8, 6))\n",
    "\n",
    "sns.heatmap(cm, annot=labels, fmt='', cmap='Blues', cbar=False, square=True, ax=ax)\n",
    "\n",
    "plt.xlabel('Predicted')\n",
    "plt.ylabel('Actual')\n",
    "plt.title('Confusion Matrix')\n",
    "\n",
    "plt.show()\n"
   ]
  },
  {
   "cell_type": "code",
   "execution_count": 28,
   "metadata": {},
   "outputs": [
    {
     "name": "stderr",
     "output_type": "stream",
     "text": [
      "No model was supplied, defaulted to distilbert/distilbert-base-uncased-finetuned-sst-2-english and revision 714eb0f (https://huggingface.co/distilbert/distilbert-base-uncased-finetuned-sst-2-english).\n",
      "Using a pipeline without specifying a model name and revision in production is not recommended.\n",
      "Device set to use cpu\n"
     ]
    }
   ],
   "source": [
    "sentiment_analyzer = pipeline(\"sentiment-analysis\")"
   ]
  },
  {
   "cell_type": "code",
   "execution_count": 29,
   "metadata": {},
   "outputs": [],
   "source": [
    "sample_texts = [\n",
    "    \"That was an amazing movie, one of the best I have ever seen!\",\n",
    "    \"That was a terrible election, it made me so angry.\", \n",
    "    \"That test was easy, I am sure that I got a perfect score.\",\n",
    "    \"That restaurant was not very good, the food was bland and uninspired.\"\n",
    "]\n"
   ]
  },
  {
   "cell_type": "code",
   "execution_count": 30,
   "metadata": {},
   "outputs": [
    {
     "name": "stdout",
     "output_type": "stream",
     "text": [
      "Text: That was an amazing movie, one of the best I have ever seen!\n",
      "Predicted Sentiment: POSITIVE\n",
      "\n",
      "Text: That was a terrible election, it made me so angry.\n",
      "Predicted Sentiment: NEGATIVE\n",
      "\n",
      "Text: That test was easy, I am sure that I got a perfect score.\n",
      "Predicted Sentiment: POSITIVE\n",
      "\n",
      "Text: That restaurant was not very good, the food was bland and uninspired.\n",
      "Predicted Sentiment: NEGATIVE\n",
      "\n"
     ]
    }
   ],
   "source": [
    "for text in sample_texts:\n",
    "    result = sentiment_analyzer(text)\n",
    "    sentiment = result[0]['label']  # Get the predicted sentiment (e.g., 'POSITIVE' or 'NEGATIVE')\n",
    "    print(f\"Text: {text}\\nPredicted Sentiment: {sentiment}\\n\")\n"
   ]
  },
  {
   "cell_type": "code",
   "execution_count": null,
   "metadata": {},
   "outputs": [
    {
     "name": "stderr",
     "output_type": "stream",
     "text": [
      "No model was supplied, defaulted to distilbert/distilbert-base-uncased-finetuned-sst-2-english and revision 714eb0f (https://huggingface.co/distilbert/distilbert-base-uncased-finetuned-sst-2-english).\n",
      "Using a pipeline without specifying a model name and revision in production is not recommended.\n",
      "Device set to use cpu\n"
     ]
    },
    {
     "name": "stdout",
     "output_type": "stream",
     "text": [
      "Type your text to test sentiment (type 'exit' to quit):\n"
     ]
    },
    {
     "name": "stdin",
     "output_type": "stream",
     "text": [
      "Enter text:  That election was the worst I have ever seen\n"
     ]
    },
    {
     "name": "stdout",
     "output_type": "stream",
     "text": [
      "Text: That election was the worst I have ever seen\n",
      "Predicted Sentiment: NEGATIVE (Confidence: 1.00)\n",
      "\n"
     ]
    },
    {
     "name": "stdin",
     "output_type": "stream",
     "text": [
      "Enter text:  That class was fun and easy, I thoroughly enjoyed it!\n"
     ]
    },
    {
     "name": "stdout",
     "output_type": "stream",
     "text": [
      "Text: That class was fun and easy, I thoroughly enjoyed it!\n",
      "Predicted Sentiment: POSITIVE (Confidence: 1.00)\n",
      "\n"
     ]
    }
   ],
   "source": [
    "# load the sentiment analysis pipeline\n",
    "sentiment_analyzer = pipeline(\"sentiment-analysis\")\n",
    "\n",
    "# create a function for testing custom responses\n",
    "def test_custom_responses():\n",
    "    print(\"Type your text to test sentiment (type 'exit' to quit):\")\n",
    "    while True:\n",
    "        user_input = input(\"Enter text: \").strip()\n",
    "        \n",
    "        if user_input.lower() == 'exit':\n",
    "            print(\"Exiting sentiment tester. Goodbye!\")\n",
    "            break\n",
    "        \n",
    "        result = sentiment_analyzer(user_input)\n",
    "        sentiment = result[0]['label']  \n",
    "        score = result[0]['score']  \n",
    "        \n",
    "        print(f\"Text: {user_input}\\nPredicted Sentiment: {sentiment} (Confidence: {score:.2f})\\n\")\n",
    "\n",
    "test_custom_responses()"
   ]
  }
 ],
 "metadata": {
  "kaggle": {
   "accelerator": "nvidiaTeslaT4",
   "dataSources": [
    {
     "datasetId": 4820237,
     "sourceId": 8150308,
     "sourceType": "datasetVersion"
    }
   ],
   "dockerImageVersionId": 30822,
   "isGpuEnabled": true,
   "isInternetEnabled": true,
   "language": "python",
   "sourceType": "notebook"
  },
  "kernelspec": {
   "display_name": "Python (tensorflow_env)",
   "language": "python",
   "name": "tensorflow_env"
  },
  "language_info": {
   "codemirror_mode": {
    "name": "ipython",
    "version": 3
   },
   "file_extension": ".py",
   "mimetype": "text/x-python",
   "name": "python",
   "nbconvert_exporter": "python",
   "pygments_lexer": "ipython3",
   "version": "3.10.11"
  }
 },
 "nbformat": 4,
 "nbformat_minor": 4
}
